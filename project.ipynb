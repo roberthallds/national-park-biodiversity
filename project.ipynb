{
 "cells": [
  {
   "cell_type": "markdown",
   "metadata": {},
   "source": [
    "## AN EXAMINATION OF BIODIVERSITY AND SPECIES ENDANGERMENT IN NATIONAL PARKS\n",
    "\n",
    "A project for my Codecademy Professional Certification (Data Scientist: Machine Learning Specialist)\n",
    "\n",
    "DISCLAIMER: Data used here is fictionally generated and was given for purposes of the project by Codecademy.com. \n",
    "\n",
    "Robert Hall\n",
    "\n",
    "08/07/2024"
   ]
  },
  {
   "cell_type": "markdown",
   "metadata": {},
   "source": [
    "#### Table of Contents\n",
    "\n",
    "* [Section 1](#explore-data-and-analyze-distribution-of-conservation-status-across-species): Explore data and analyze distribution of conservation status across species\n",
    "* [Section 2](#are-certain-species-more-likely-to-be-endangered-than-others): Are certain species more likely to be endangered than others?\n",
    "* [Section 3](#are-there-statistically-significant-differences-in-needed-protection-between-species): Are there statistically significant differences in needed protection between species?\n",
    "* [Section 4](#overall-conclusions-and-key-takeaways): Overall conclusions and key takeaways"
   ]
  },
  {
   "cell_type": "markdown",
   "metadata": {},
   "source": [
    "#### Load Data and Packages"
   ]
  },
  {
   "cell_type": "code",
   "execution_count": 1,
   "metadata": {},
   "outputs": [],
   "source": [
    "import pandas as pd\n",
    "import matplotlib.pyplot as plt"
   ]
  },
  {
   "cell_type": "code",
   "execution_count": 2,
   "metadata": {},
   "outputs": [
    {
     "data": {
      "text/html": [
       "<div>\n",
       "<style scoped>\n",
       "    .dataframe tbody tr th:only-of-type {\n",
       "        vertical-align: middle;\n",
       "    }\n",
       "\n",
       "    .dataframe tbody tr th {\n",
       "        vertical-align: top;\n",
       "    }\n",
       "\n",
       "    .dataframe thead th {\n",
       "        text-align: right;\n",
       "    }\n",
       "</style>\n",
       "<table border=\"1\" class=\"dataframe\">\n",
       "  <thead>\n",
       "    <tr style=\"text-align: right;\">\n",
       "      <th></th>\n",
       "      <th>scientific_name</th>\n",
       "      <th>park_name</th>\n",
       "      <th>observations</th>\n",
       "    </tr>\n",
       "  </thead>\n",
       "  <tbody>\n",
       "    <tr>\n",
       "      <th>0</th>\n",
       "      <td>Vicia benghalensis</td>\n",
       "      <td>Great Smoky Mountains National Park</td>\n",
       "      <td>68</td>\n",
       "    </tr>\n",
       "    <tr>\n",
       "      <th>1</th>\n",
       "      <td>Neovison vison</td>\n",
       "      <td>Great Smoky Mountains National Park</td>\n",
       "      <td>77</td>\n",
       "    </tr>\n",
       "    <tr>\n",
       "      <th>2</th>\n",
       "      <td>Prunus subcordata</td>\n",
       "      <td>Yosemite National Park</td>\n",
       "      <td>138</td>\n",
       "    </tr>\n",
       "    <tr>\n",
       "      <th>3</th>\n",
       "      <td>Abutilon theophrasti</td>\n",
       "      <td>Bryce National Park</td>\n",
       "      <td>84</td>\n",
       "    </tr>\n",
       "    <tr>\n",
       "      <th>4</th>\n",
       "      <td>Githopsis specularioides</td>\n",
       "      <td>Great Smoky Mountains National Park</td>\n",
       "      <td>85</td>\n",
       "    </tr>\n",
       "  </tbody>\n",
       "</table>\n",
       "</div>"
      ],
      "text/plain": [
       "            scientific_name                            park_name  observations\n",
       "0        Vicia benghalensis  Great Smoky Mountains National Park            68\n",
       "1            Neovison vison  Great Smoky Mountains National Park            77\n",
       "2         Prunus subcordata               Yosemite National Park           138\n",
       "3      Abutilon theophrasti                  Bryce National Park            84\n",
       "4  Githopsis specularioides  Great Smoky Mountains National Park            85"
      ]
     },
     "execution_count": 2,
     "metadata": {},
     "output_type": "execute_result"
    }
   ],
   "source": [
    "observations = pd.read_csv('observations.csv')\n",
    "observations.head()"
   ]
  },
  {
   "cell_type": "code",
   "execution_count": 3,
   "metadata": {},
   "outputs": [
    {
     "data": {
      "text/html": [
       "<div>\n",
       "<style scoped>\n",
       "    .dataframe tbody tr th:only-of-type {\n",
       "        vertical-align: middle;\n",
       "    }\n",
       "\n",
       "    .dataframe tbody tr th {\n",
       "        vertical-align: top;\n",
       "    }\n",
       "\n",
       "    .dataframe thead th {\n",
       "        text-align: right;\n",
       "    }\n",
       "</style>\n",
       "<table border=\"1\" class=\"dataframe\">\n",
       "  <thead>\n",
       "    <tr style=\"text-align: right;\">\n",
       "      <th></th>\n",
       "      <th>category</th>\n",
       "      <th>scientific_name</th>\n",
       "      <th>common_names</th>\n",
       "      <th>conservation_status</th>\n",
       "    </tr>\n",
       "  </thead>\n",
       "  <tbody>\n",
       "    <tr>\n",
       "      <th>0</th>\n",
       "      <td>Mammal</td>\n",
       "      <td>Clethrionomys gapperi gapperi</td>\n",
       "      <td>Gapper's Red-Backed Vole</td>\n",
       "      <td>NaN</td>\n",
       "    </tr>\n",
       "    <tr>\n",
       "      <th>1</th>\n",
       "      <td>Mammal</td>\n",
       "      <td>Bos bison</td>\n",
       "      <td>American Bison, Bison</td>\n",
       "      <td>NaN</td>\n",
       "    </tr>\n",
       "    <tr>\n",
       "      <th>2</th>\n",
       "      <td>Mammal</td>\n",
       "      <td>Bos taurus</td>\n",
       "      <td>Aurochs, Aurochs, Domestic Cattle (Feral), Dom...</td>\n",
       "      <td>NaN</td>\n",
       "    </tr>\n",
       "    <tr>\n",
       "      <th>3</th>\n",
       "      <td>Mammal</td>\n",
       "      <td>Ovis aries</td>\n",
       "      <td>Domestic Sheep, Mouflon, Red Sheep, Sheep (Feral)</td>\n",
       "      <td>NaN</td>\n",
       "    </tr>\n",
       "    <tr>\n",
       "      <th>4</th>\n",
       "      <td>Mammal</td>\n",
       "      <td>Cervus elaphus</td>\n",
       "      <td>Wapiti Or Elk</td>\n",
       "      <td>NaN</td>\n",
       "    </tr>\n",
       "  </tbody>\n",
       "</table>\n",
       "</div>"
      ],
      "text/plain": [
       "  category                scientific_name  \\\n",
       "0   Mammal  Clethrionomys gapperi gapperi   \n",
       "1   Mammal                      Bos bison   \n",
       "2   Mammal                     Bos taurus   \n",
       "3   Mammal                     Ovis aries   \n",
       "4   Mammal                 Cervus elaphus   \n",
       "\n",
       "                                        common_names conservation_status  \n",
       "0                           Gapper's Red-Backed Vole                 NaN  \n",
       "1                              American Bison, Bison                 NaN  \n",
       "2  Aurochs, Aurochs, Domestic Cattle (Feral), Dom...                 NaN  \n",
       "3  Domestic Sheep, Mouflon, Red Sheep, Sheep (Feral)                 NaN  \n",
       "4                                      Wapiti Or Elk                 NaN  "
      ]
     },
     "execution_count": 3,
     "metadata": {},
     "output_type": "execute_result"
    }
   ],
   "source": [
    "species = pd.read_csv('species_info.csv')\n",
    "species.head()"
   ]
  },
  {
   "cell_type": "markdown",
   "metadata": {},
   "source": [
    "#### Explore data and analyze distribution of conservation status across species"
   ]
  },
  {
   "cell_type": "markdown",
   "metadata": {},
   "source": [
    "Number of unique species in dataset: *species*"
   ]
  },
  {
   "cell_type": "code",
   "execution_count": 4,
   "metadata": {},
   "outputs": [
    {
     "name": "stdout",
     "output_type": "stream",
     "text": [
      "Number of Unique Species: 5541\n"
     ]
    }
   ],
   "source": [
    "n_unique_species = species.scientific_name.nunique()\n",
    "print(f\"Number of Unique Species: {n_unique_species}\")"
   ]
  },
  {
   "cell_type": "markdown",
   "metadata": {},
   "source": [
    "Species categories and their frequencies"
   ]
  },
  {
   "cell_type": "code",
   "execution_count": 5,
   "metadata": {},
   "outputs": [
    {
     "data": {
      "text/plain": [
       "category\n",
       "Amphibian              80\n",
       "Bird                  521\n",
       "Fish                  127\n",
       "Mammal                214\n",
       "Nonvascular Plant     333\n",
       "Reptile                79\n",
       "Vascular Plant       4470\n",
       "dtype: int64"
      ]
     },
     "execution_count": 5,
     "metadata": {},
     "output_type": "execute_result"
    }
   ],
   "source": [
    "species.groupby('category').size()"
   ]
  },
  {
   "cell_type": "markdown",
   "metadata": {},
   "source": [
    "#### Are certain species more likely to be endangered than others?"
   ]
  },
  {
   "cell_type": "markdown",
   "metadata": {},
   "source": [
    "Conservation status categories and their frequencies"
   ]
  },
  {
   "cell_type": "code",
   "execution_count": 6,
   "metadata": {},
   "outputs": [
    {
     "data": {
      "text/plain": [
       "conservation_status\n",
       "Endangered             16\n",
       "In Recovery             4\n",
       "Species of Concern    161\n",
       "Threatened             10\n",
       "dtype: int64"
      ]
     },
     "execution_count": 6,
     "metadata": {},
     "output_type": "execute_result"
    }
   ],
   "source": [
    "species.groupby('conservation_status').size()"
   ]
  },
  {
   "cell_type": "code",
   "execution_count": 14,
   "metadata": {},
   "outputs": [
    {
     "data": {
      "image/png": "[encoded data removed]",
      "text/plain": [
       "<Figure size 432x288 with 1 Axes>"
      ]
     },
     "metadata": {},
     "output_type": "display_data"
    },
    {
     "data": {
      "text/plain": [
       "<Figure size 432x288 with 0 Axes>"
      ]
     },
     "metadata": {},
     "output_type": "display_data"
    }
   ],
   "source": [
    "labels=['Endangered', 'In Recovery', 'Species of Concern', 'Threatened']\n",
    "plt.pie(species.groupby('conservation_status').size(), autopct='%1.1f%%', labels=labels)\n",
    "plt.title(\"Proportions of Each Conservation Status \\nRepresented in the Survey among \\nSpecies Given Protection\")\n",
    "plt.show()\n",
    "plt.clf()"
   ]
  },
  {
   "cell_type": "markdown",
   "metadata": {},
   "source": [
    "Analyze distribution of each conservation status by species"
   ]
  },
  {
   "cell_type": "code",
   "execution_count": 7,
   "metadata": {},
   "outputs": [
    {
     "data": {
      "text/html": [
       "<div>\n",
       "<style scoped>\n",
       "    .dataframe tbody tr th:only-of-type {\n",
       "        vertical-align: middle;\n",
       "    }\n",
       "\n",
       "    .dataframe tbody tr th {\n",
       "        vertical-align: top;\n",
       "    }\n",
       "\n",
       "    .dataframe thead th {\n",
       "        text-align: right;\n",
       "    }\n",
       "</style>\n",
       "<table border=\"1\" class=\"dataframe\">\n",
       "  <thead>\n",
       "    <tr style=\"text-align: right;\">\n",
       "      <th>category</th>\n",
       "      <th>Amphibian</th>\n",
       "      <th>Bird</th>\n",
       "      <th>Fish</th>\n",
       "      <th>Mammal</th>\n",
       "      <th>Nonvascular Plant</th>\n",
       "      <th>Reptile</th>\n",
       "      <th>Vascular Plant</th>\n",
       "    </tr>\n",
       "    <tr>\n",
       "      <th>conservation_status</th>\n",
       "      <th></th>\n",
       "      <th></th>\n",
       "      <th></th>\n",
       "      <th></th>\n",
       "      <th></th>\n",
       "      <th></th>\n",
       "      <th></th>\n",
       "    </tr>\n",
       "  </thead>\n",
       "  <tbody>\n",
       "    <tr>\n",
       "      <th>Endangered</th>\n",
       "      <td>1.0</td>\n",
       "      <td>4.0</td>\n",
       "      <td>3.0</td>\n",
       "      <td>7.0</td>\n",
       "      <td>NaN</td>\n",
       "      <td>NaN</td>\n",
       "      <td>1.0</td>\n",
       "    </tr>\n",
       "    <tr>\n",
       "      <th>In Recovery</th>\n",
       "      <td>NaN</td>\n",
       "      <td>3.0</td>\n",
       "      <td>NaN</td>\n",
       "      <td>1.0</td>\n",
       "      <td>NaN</td>\n",
       "      <td>NaN</td>\n",
       "      <td>NaN</td>\n",
       "    </tr>\n",
       "    <tr>\n",
       "      <th>Species of Concern</th>\n",
       "      <td>4.0</td>\n",
       "      <td>72.0</td>\n",
       "      <td>4.0</td>\n",
       "      <td>28.0</td>\n",
       "      <td>5.0</td>\n",
       "      <td>5.0</td>\n",
       "      <td>43.0</td>\n",
       "    </tr>\n",
       "    <tr>\n",
       "      <th>Threatened</th>\n",
       "      <td>2.0</td>\n",
       "      <td>NaN</td>\n",
       "      <td>4.0</td>\n",
       "      <td>2.0</td>\n",
       "      <td>NaN</td>\n",
       "      <td>NaN</td>\n",
       "      <td>2.0</td>\n",
       "    </tr>\n",
       "  </tbody>\n",
       "</table>\n",
       "</div>"
      ],
      "text/plain": [
       "category             Amphibian  Bird  Fish  Mammal  Nonvascular Plant  \\\n",
       "conservation_status                                                     \n",
       "Endangered                 1.0   4.0   3.0     7.0                NaN   \n",
       "In Recovery                NaN   3.0   NaN     1.0                NaN   \n",
       "Species of Concern         4.0  72.0   4.0    28.0                5.0   \n",
       "Threatened                 2.0   NaN   4.0     2.0                NaN   \n",
       "\n",
       "category             Reptile  Vascular Plant  \n",
       "conservation_status                           \n",
       "Endangered               NaN             1.0  \n",
       "In Recovery              NaN             NaN  \n",
       "Species of Concern       5.0            43.0  \n",
       "Threatened               NaN             2.0  "
      ]
     },
     "execution_count": 7,
     "metadata": {},
     "output_type": "execute_result"
    }
   ],
   "source": [
    "conservation_category = species[species['conservation_status'] != 'No Intervention']\\\n",
    "    .groupby(['conservation_status', 'category'])['scientific_name']\\\n",
    "    .count()\\\n",
    "    .unstack()\n",
    "\n",
    "conservation_category"
   ]
  },
  {
   "cell_type": "code",
   "execution_count": 9,
   "metadata": {},
   "outputs": [
    {
     "data": {
      "text/plain": [
       "Text(0.5, 1.0, \"Species' Distribution Among Each Category of Protection\")"
      ]
     },
     "execution_count": 9,
     "metadata": {},
     "output_type": "execute_result"
    },
    {
     "data": {
      "image/png": "[encoded data removed]",
      "text/plain": [
       "<Figure size 576x432 with 1 Axes>"
      ]
     },
     "metadata": {
      "needs_background": "light"
     },
     "output_type": "display_data"
    }
   ],
   "source": [
    "ax = conservation_category.plot(kind='bar',\n",
    "                                figsize=(8,6),\n",
    "                                stacked=True)\n",
    "ax.set_xlabel('Conservation Status')\n",
    "ax.set_ylabel('Number of Species')\n",
    "ax.set_title('Species\\' Distribution Among Each Category of Protection')"
   ]
  },
  {
   "cell_type": "markdown",
   "metadata": {},
   "source": [
    "#### Are there statistically significant differences in needed protection between species?"
   ]
  },
  {
   "cell_type": "markdown",
   "metadata": {},
   "source": [
    "Preparation for a Chi2 Test for Association between different categories of flora and fauna:"
   ]
  },
  {
   "cell_type": "code",
   "execution_count": null,
   "metadata": {},
   "outputs": [],
   "source": [
    "species['is_protected'] = species['conservation_status'].isnull()"
   ]
  },
  {
   "cell_type": "code",
   "execution_count": null,
   "metadata": {},
   "outputs": [
    {
     "data": {
      "text/html": [
       "<div>\n",
       "<style scoped>\n",
       "    .dataframe tbody tr th:only-of-type {\n",
       "        vertical-align: middle;\n",
       "    }\n",
       "\n",
       "    .dataframe tbody tr th {\n",
       "        vertical-align: top;\n",
       "    }\n",
       "\n",
       "    .dataframe thead th {\n",
       "        text-align: right;\n",
       "    }\n",
       "</style>\n",
       "<table border=\"1\" class=\"dataframe\">\n",
       "  <thead>\n",
       "    <tr style=\"text-align: right;\">\n",
       "      <th></th>\n",
       "      <th>Category</th>\n",
       "      <th>Protected</th>\n",
       "      <th>Not Protected</th>\n",
       "      <th>% Protected</th>\n",
       "    </tr>\n",
       "  </thead>\n",
       "  <tbody>\n",
       "    <tr>\n",
       "      <th>0</th>\n",
       "      <td>Amphibian</td>\n",
       "      <td>7</td>\n",
       "      <td>72</td>\n",
       "      <td>8.86</td>\n",
       "    </tr>\n",
       "    <tr>\n",
       "      <th>1</th>\n",
       "      <td>Bird</td>\n",
       "      <td>75</td>\n",
       "      <td>413</td>\n",
       "      <td>15.37</td>\n",
       "    </tr>\n",
       "    <tr>\n",
       "      <th>2</th>\n",
       "      <td>Fish</td>\n",
       "      <td>11</td>\n",
       "      <td>115</td>\n",
       "      <td>8.73</td>\n",
       "    </tr>\n",
       "    <tr>\n",
       "      <th>3</th>\n",
       "      <td>Mammal</td>\n",
       "      <td>30</td>\n",
       "      <td>146</td>\n",
       "      <td>17.05</td>\n",
       "    </tr>\n",
       "    <tr>\n",
       "      <th>4</th>\n",
       "      <td>Nonvascular Plant</td>\n",
       "      <td>5</td>\n",
       "      <td>328</td>\n",
       "      <td>1.50</td>\n",
       "    </tr>\n",
       "    <tr>\n",
       "      <th>5</th>\n",
       "      <td>Reptile</td>\n",
       "      <td>5</td>\n",
       "      <td>73</td>\n",
       "      <td>6.41</td>\n",
       "    </tr>\n",
       "    <tr>\n",
       "      <th>6</th>\n",
       "      <td>Vascular Plant</td>\n",
       "      <td>46</td>\n",
       "      <td>4216</td>\n",
       "      <td>1.08</td>\n",
       "    </tr>\n",
       "  </tbody>\n",
       "</table>\n",
       "</div>"
      ],
      "text/plain": [
       "            Category  Protected  Not Protected  % Protected\n",
       "0          Amphibian          7             72         8.86\n",
       "1               Bird         75            413        15.37\n",
       "2               Fish         11            115         8.73\n",
       "3             Mammal         30            146        17.05\n",
       "4  Nonvascular Plant          5            328         1.50\n",
       "5            Reptile          5             73         6.41\n",
       "6     Vascular Plant         46           4216         1.08"
      ]
     },
     "execution_count": 10,
     "metadata": {},
     "output_type": "execute_result"
    }
   ],
   "source": [
    "conservation_categories = species.groupby(['category', 'is_protected'])\\\n",
    "    .scientific_name.nunique()\\\n",
    "    .reset_index()\\\n",
    "    .pivot(columns='is_protected',\n",
    "           index='category',\n",
    "           values='scientific_name')\\\n",
    "    .reset_index()\n",
    "\n",
    "conservation_categories.columns = ['Category', 'Protected', 'Not Protected']\n",
    "\n",
    "conservation_categories['% Protected'] = round((conservation_categories['Protected'] / (conservation_categories['Protected'] + conservation_categories['Not Protected'])) * 100, 2)\n",
    "\n",
    "conservation_categories"
   ]
  },
  {
   "cell_type": "markdown",
   "metadata": {},
   "source": [
    "Question 1: *Is there a statistically significant difference in the endangerment level of amphibians as compared to fish?*\n",
    "\n",
    "Ho: *There exists no statistically significant difference between the endangerment level of amphibians as compared to the endangerment level of fish.*\n",
    "\n",
    "Ha: *There does exist a statistically significant difference between the endangerment level of amphibians as compared to the endangerment level of fish.*"
   ]
  },
  {
   "cell_type": "code",
   "execution_count": null,
   "metadata": {},
   "outputs": [
    {
     "name": "stdout",
     "output_type": "stream",
     "text": [
      "Proportion of Mammals Endangered: \t0.09565\n",
      "proportion of Amphibians Endangered: \t0.09722\n",
      "p-value: \t\t1.0\n",
      "significance threshold: 0.05\n",
      "Do not reject Null Hypothesis: No Significant Difference Between Two Variables\n"
     ]
    }
   ],
   "source": [
    "from scipy.stats import chi2_contingency\n",
    "\n",
    "sig = 0.05 \t\t# significance threshold\n",
    "\n",
    "amph_params = [7, 72] # amphibians protected, amphibians not protected\n",
    "fish_params = [11, 115] # fish protected, mammals not protected\n",
    "amph_ratio = round(amph_params[0] / amph_params[1], 5)\n",
    "fish_ratio = round(fish_params[0] / fish_params[1], 5)\n",
    "\n",
    "contingency = [fish_params, amph_params] \n",
    "chi2, pval, dof, expected = chi2_contingency(contingency)\n",
    "\n",
    "print(f\"Proportion of Fish Endangered: \t{fish_ratio}\")\n",
    "print(f\"proportion of Amphibians Endangered: \t{amph_ratio}\")\n",
    "\n",
    "if pval < sig:\n",
    "\tprint(f\"p-value: \t\t{round(pval, 4)}\")\n",
    "\tprint(f\"significance threshold: {round(sig, 2)}\")\n",
    "\tprint(\"Reject Null Hypothesis: Statistically Significant Relationship\")\n",
    "elif pval > sig: \n",
    "\tprint(f\"p-value: \t\t{round(pval, 4)}\")\n",
    "\tprint(f\"significance threshold: {round(sig, 2)}\")\n",
    "\tprint(\"Do not reject Null Hypothesis: No Significant Difference Between Two Variables\")"
   ]
  },
  {
   "cell_type": "markdown",
   "metadata": {},
   "source": [
    "Conclusion 1: Given that the probability of observing the data given Ho being true is so high (a rounded probability of 1.0), the null hypothesis is easily not rejected, and we can assume no significant difference between risk of endangerment to amphibians and risk of endangerment to fish. \n",
    "\n",
    "Notably, there is very little difference in the proportion of fish under protection (Pf = 0.0956) compared to the proportion of amphibians under protection (Pa = 0.0972) in this sample."
   ]
  },
  {
   "cell_type": "markdown",
   "metadata": {},
   "source": [
    "Question 2: *Is there a statistically significant difference in the endangerment level of reptiles as compared to mammals?*\n",
    "\n",
    "Ho: *There exists no statistically significant difference between the endangerment level of reptiles as compared to the endangerment level of mammals.*\n",
    "\n",
    "Ha: *There does exist a statistically significant difference between the endangerment level of reptiles as compared to the endangerment level of mammals.*"
   ]
  },
  {
   "cell_type": "code",
   "execution_count": null,
   "metadata": {},
   "outputs": [
    {
     "name": "stdout",
     "output_type": "stream",
     "text": [
      "Proportion of Reptiles Protected: \t0.06849\n",
      "proportion of Mammals Protected: \t0.20548\n",
      "p-value: \t\t0.0384\n",
      "significance threshold: 0.05\n",
      "Reject Null Hypothesis: Statistically Significant Relationship\n"
     ]
    }
   ],
   "source": [
    "from scipy.stats import chi2_contingency\n",
    "\n",
    "sig = 0.05 \t\t# significance threshold\n",
    "\n",
    "rept_params = [5, 73] # reptiles protected, reptiles not protected\n",
    "mamm_params = [30, 146] # mammals protected, mammals not protected\n",
    "rept_ratio = round(rept_params[0] / rept_params[1], 5)\n",
    "mamm_ratio = round(mamm_params[0] / mamm_params[1], 5)\n",
    "\n",
    "contingency = [mamm_params, rept_params]\n",
    "chi2, pval, dof, expected = chi2_contingency(contingency)\n",
    "\n",
    "print(f\"Proportion of Reptiles Protected: \t{rept_ratio}\")\n",
    "print(f\"proportion of Mammals Protected: \t{mamm_ratio}\")\n",
    "\n",
    "if pval < sig:\n",
    "\tprint(f\"p-value: \t\t{round(pval, 4)}\")\n",
    "\tprint(f\"significance threshold: {round(sig, 2)}\")\n",
    "\tprint(\"Reject Null Hypothesis: Statistically Significant Relationship\")\n",
    "elif pval > sig: \n",
    "\tprint(f\"p-value:                {round(pval, 4)}\")\n",
    "\tprint(f\"significance threshold: {round(sig, 2)}\")\n",
    "\tprint(\"Do not reject Null Hypothesis: No Significant Difference Between Two Variables\")"
   ]
  },
  {
   "cell_type": "markdown",
   "metadata": {},
   "source": [
    "Conclusion 2: Given that the probability of observing the data given the alternative hypothesis (Ha) being true is so high (p = 0.0384), the null hypothesis is rejected, and we can assume that there is a statistically significant difference in the risk of endangerment between reptiles and mammals. \n",
    "\n",
    "Since the proportion of mammals protected (Pm = 0.205) is higher than the proportion of Reptiles protected (Pr = 0.068), we can assume that mammals are at a statistically significant higher risk of endangerment than reptiles are."
   ]
  },
  {
   "cell_type": "markdown",
   "metadata": {},
   "source": [
    "Question 3: *Is there a statistically significant difference in the endangerment level of nonvascular plants as compared to vascular plants?*\n",
    "\n",
    "Ho: *There exists no statistically significant difference between the endangerment level of nonvascular plants as compared to the endangerment level of vascular plants.*\n",
    "\n",
    "Ha: *There does exist a statistically significant difference between the endangerment level of nonvascular plants as compared to the endangerment level of vascular plants.*"
   ]
  },
  {
   "cell_type": "code",
   "execution_count": null,
   "metadata": {},
   "outputs": [
    {
     "name": "stdout",
     "output_type": "stream",
     "text": [
      "Proportion of Vascular Plants Protected: \t0.01524\n",
      "proportion of Nonvascular Plants Protected: \t0.01091\n",
      "p-value:                0.6623\n",
      "significance threshold: 0.05\n",
      "Do not reject Null Hypothesis: No Significant Difference Between Two Variables\n"
     ]
    }
   ],
   "source": [
    "from scipy.stats import chi2_contingency\n",
    "\n",
    "sig = 0.05 \t\t# significance threshold\n",
    "\n",
    "v_params = [5, 328] # vascular protected, vascular not protected\n",
    "nv_params = [46, 4216] # nonvascular protected, nonvascular not protected\n",
    "v_ratio = round(v_params[0] / v_params[1], 5)\n",
    "nv_ratio = round(nv_params[0] / nv_params[1], 5)\n",
    "\n",
    "contingency = [v_params, nv_params]\n",
    "chi2, pval, dof, expected = chi2_contingency(contingency)\n",
    "\n",
    "print(f\"Proportion of Vascular Plants Protected: \t{v_ratio}\")\n",
    "print(f\"proportion of Nonvascular Plants Protected: \t{nv_ratio}\")\n",
    "\n",
    "if pval < sig:\n",
    "\tprint(f\"p-value: \t\t{round(pval, 4)}\")\n",
    "\tprint(f\"significance threshold: {round(sig, 2)}\")\n",
    "\tprint(\"Reject Null Hypothesis: Statistically Significant Relationship\")\n",
    "elif pval > sig: \n",
    "\tprint(f\"p-value:                {round(pval, 4)}\")\n",
    "\tprint(f\"significance threshold: {round(sig, 2)}\")\n",
    "\tprint(\"Do not reject Null Hypothesis: No Significant Difference Between Two Variables\")"
   ]
  },
  {
   "cell_type": "markdown",
   "metadata": {},
   "source": [
    "Conclusion 3: Given that the probability of observing the data given the null hypothesis (Ho) to be true is higher than the significance threshold of 0.05 (p > 0.66), the alternative hypothesis is rejected, and it is assumed that there is no statistically significant difference in the risk of endangerment between vascular and non-vascular plants.\n",
    "\n",
    "Notably, there is little difference between the proportion of endangered vascular plant samples (Pv = 0.01524) and the proportion of endangered nonvascular plant samples (Pnv = 0.01091)."
   ]
  },
  {
   "cell_type": "markdown",
   "metadata": {},
   "source": [
    "Question 4: *Is there a statistically significant difference in the endangerment level of reptiles as compared to birds?*\n",
    "\n",
    "Ho: *There exists no statistically significant difference between the endangerment level of reptiles as compared to the endangerment level of birds.*\n",
    "\n",
    "Ha: *There does exist a statistically significant difference between the endangerment level of reptiles as compared to the endangerment level of birds.*"
   ]
  },
  {
   "cell_type": "code",
   "execution_count": null,
   "metadata": {},
   "outputs": [
    {
     "name": "stdout",
     "output_type": "stream",
     "text": [
      "Proportion of Reptiles Protected: \t0.06849\n",
      "proportion of Birds Protected: \t0.1816\n",
      "p-value:                0.0531\n",
      "significance threshold: 0.05\n",
      "Do not reject Null Hypothesis: No Significant Difference Between Two Variables\n"
     ]
    }
   ],
   "source": [
    "from scipy.stats import chi2_contingency\n",
    "\n",
    "sig = 0.05 \t\t# significance threshold\n",
    "\n",
    "rept_params = [5, 73] # reptiles protected, reptiles not protected\n",
    "bird_params = [75, 413] # birds protected, birds not protected\n",
    "rept_ratio = round(rept_params[0] / rept_params[1], 5)\n",
    "bird_ratio = round(bird_params[0] / bird_params[1], 5)\n",
    "\n",
    "contingency = [rept_params, bird_params]\n",
    "chi2, pval, dof, expected = chi2_contingency(contingency)\n",
    "\n",
    "print(f\"Proportion of Reptiles Protected: \t{rept_ratio}\")\n",
    "print(f\"proportion of Birds Protected: \t{bird_ratio}\")\n",
    "\n",
    "if pval < sig:\n",
    "\tprint(f\"p-value: \t\t{round(pval, 4)}\")\n",
    "\tprint(f\"significance threshold: {round(sig, 2)}\")\n",
    "\tprint(\"Reject Null Hypothesis: Statistically Significant Relationship\")\n",
    "elif pval > sig: \n",
    "\tprint(f\"p-value:                {round(pval, 4)}\")\n",
    "\tprint(f\"significance threshold: {round(sig, 2)}\")\n",
    "\tprint(\"Do not reject Null Hypothesis: No Significant Difference Between Two Variables\")"
   ]
  },
  {
   "cell_type": "markdown",
   "metadata": {},
   "source": [
    "Conclusion 4: Since technically the probability of observing the data given the null hypothesis (Ho) to be true is higher than the significance threshold of 0.05 (p = 0.0531), the alternative hypothesis is rejected, and it is assumed that there is no statistically significant difference in the risk of endangerment between reptiles and birds.\n",
    "\n",
    "However, there is a noticable difference in the proportion of reptiles protected (Pr = 0.068) when compared to the proportion of birds protected (Pb = 0.182)."
   ]
  },
  {
   "cell_type": "markdown",
   "metadata": {},
   "source": [
    "#### Overall Conclusions and Key Takeaways"
   ]
  },
  {
   "cell_type": "markdown",
   "metadata": {},
   "source": [
    "*What is the Distribution of Conservation Status Across Species?*\n",
    "* There are 5541 unique species present in this study.\n",
    "* Vascular plants are by far the most prevalent group of species present in the survey.\n",
    "* Very few species are designated as needing conservation; 191 of the 5541 species are in need of conservation efforts.\n",
    "\n",
    "*Are Certain Species More Likely to be Endangered than Others?*\n",
    "* The species with the highest proportion of conservation designations overall goes to birds, where most of the birds under conservation efforts fall under \"species of concern\".\n",
    "\n",
    "*Are there statistically significant differences between species and conservation status?*\n",
    "* Certain species have more statistically significant risks of needing protection efforts than others.\n",
    "* Mammals are at a statistically significant higher risk of needing protection than Reptiles (p = 0.0384).\n",
    "* There is not a statistically significant higher risk of needing protection among Amphibians compared to Fish (p = 1.0), or among Vascular and Nonvascular Plants (p = 0.6623), or (barely) among Reptiles and Birds (p = 0.0531)."
   ]
  }
 ],
 "metadata": {
  "kernelspec": {
   "display_name": "base",
   "language": "python",
   "name": "python3"
  },
  "language_info": {
   "codemirror_mode": {
    "name": "ipython",
    "version": 3
   },
   "file_extension": ".py",
   "mimetype": "text/x-python",
   "name": "python",
   "nbconvert_exporter": "python",
   "pygments_lexer": "ipython3",
   "version": "3.9.12"
  }
 },
 "nbformat": 4,
 "nbformat_minor": 2
}
